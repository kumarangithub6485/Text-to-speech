{
 "cells": [
  {
   "cell_type": "code",
   "execution_count": null,
   "metadata": {},
   "outputs": [],
   "source": [
    "import json\n",
    "from gtts import gTTS\n",
    "\n",
    "\n",
    "def open_json(path):\n",
    "    '''return a list of dictionaries\n",
    "    '''\n",
    "    with open('C:/Users/NAME/Desktop/2020//EN-63.json', 'r') as file:\n",
    "        return json.load(file)\n",
    "\n",
    "data = open_json('./data.json')\n",
    "\n",
    "#print(data)\n",
    "\n",
    "text = (data['datasets'][1]['transContent'])\n",
    "print(text)\n",
    "\n",
    "\n",
    "tts = gTTS(text = text, lang ='ta')\n",
    "tts.save(\"C:/Users/Name/Desktop/2020/SpeechRecognitation/EN-13-2020-4-30-1200_Shan_1.wav\")\n",
    "print(\"text converted Successfully\")\n",
    "\n"
   ]
  }
 ],
 "metadata": {
  "kernelspec": {
   "display_name": "Python 3",
   "language": "python",
   "name": "python3"
  },
  "language_info": {
   "codemirror_mode": {
    "name": "ipython",
    "version": 3
   },
   "file_extension": ".py",
   "mimetype": "text/x-python",
   "name": "python",
   "nbconvert_exporter": "python",
   "pygments_lexer": "ipython3",
   "version": "3.6.5"
  }
 },
 "nbformat": 4,
 "nbformat_minor": 2
}
